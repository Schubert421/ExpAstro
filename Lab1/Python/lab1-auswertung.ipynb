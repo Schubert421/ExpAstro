{
 "cells": [
  {
   "cell_type": "code",
   "execution_count": 1,
   "metadata": {},
   "outputs": [],
   "source": [
    "import numpy as np\n",
    "import matplotlib.pyplot as plt"
   ]
  },
  {
   "cell_type": "markdown",
   "metadata": {},
   "source": [
    "## Beachte Konvention: alles in Winkelsekunden rechnen"
   ]
  },
  {
   "cell_type": "markdown",
   "metadata": {},
   "source": [
    "### Observed Zenith angle"
   ]
  },
  {
   "cell_type": "code",
   "execution_count": 2,
   "metadata": {},
   "outputs": [
    {
     "data": {
      "text/plain": [
       "array([11.81888889, 11.85083333, 11.99138889, 12.01972222])"
      ]
     },
     "execution_count": 2,
     "metadata": {},
     "output_type": "execute_result"
    }
   ],
   "source": [
    "time_top = 15 * (np.array([11*60*60+42*60+47, 11*60*60+44*60+8, 11*60*60+56*60+50,\n",
    "                     11*60*60+57*60+37, 12*60*60+4*60+53, \n",
    "                     12*60*60+6*60 +3]) - 2*3600) # in arcsec, UT\n",
    "z_b_top = np.array([39*3600+9*60+32, 39*3600+3*60+16, 38*3600+6*60+6, 38*3600+3*60+7, 37*3600+35*60+57, 37*3600+32*60+2])\n",
    "\n",
    "time_bottom = 15 * (np.array([11*60*60+49*60+8, 11*60*60+51*60+3,11*60*60+59*60+29,\n",
    "                     12*60*60+1*60+11]) - 2*3600 )# in arcsec, UT\n",
    "z_b_bottom = np.array([39*3600+12*60+26, 39*3600+4*60+52, 38*3600+29*60+1, 38*3600+21*60+33])\n",
    "\n",
    "time_bottom/(3600*15) +2"
   ]
  },
  {
   "cell_type": "markdown",
   "metadata": {},
   "source": [
    "### Almanac"
   ]
  },
  {
   "cell_type": "code",
   "execution_count": 3,
   "metadata": {},
   "outputs": [],
   "source": [
    "GMST_0UT = (14*3600 + 52*60 + 28.7584) * 15 # in arcsecs\n",
    "alpha_5 = 2.8197997 * 3600 * 15\n",
    "alpha_6 = 2.8841898 * 3600 * 15\n",
    "delta_5 = 16.262748 * 3600\n",
    "delta_6 = 16.545533 * 3600\n",
    "phi_1 = 15*60 + 51.58\n",
    "phi_2 = 8.72 * 3600\n",
    "\n",
    "l = 13 * 3600 + 17*60 + 42.5 # in arcsecs"
   ]
  },
  {
   "cell_type": "markdown",
   "metadata": {},
   "source": [
    "### Corrections"
   ]
  },
  {
   "cell_type": "markdown",
   "metadata": {},
   "source": [
    "#### Index error"
   ]
  },
  {
   "cell_type": "code",
   "execution_count": 4,
   "metadata": {},
   "outputs": [],
   "source": [
    "z_0 = np.array([85+35/60+37/3600, 85+35/60+59/3600, 85+35/60+26/3600, 85+35/60+28/3600]) # in deg\n",
    "z_180 = np.array([274+23/60+44/3600, 274+23/60+53/3600, 274+23/60+24/3600, 274+22/60+41/3600]) # in deg\n",
    "i = np.mean((360 - (z_0 + z_180))/2)"
   ]
  },
  {
   "cell_type": "markdown",
   "metadata": {},
   "source": [
    "#### Refraction"
   ]
  },
  {
   "cell_type": "code",
   "execution_count": 5,
   "metadata": {},
   "outputs": [],
   "source": [
    "# z_b is in '' but we want °\n",
    "R_mean_top = 1/np.tan(((90-z_b_top/3600) + (7.31)/ (90-z_b_top/3600+4.4)) * np.pi/180)\n",
    "R_mean_bottom = 1/np.tan(((90-z_b_bottom/3600) + (7.31)/ (90-z_b_bottom/3600+4.4)) * np.pi/180)\n",
    "\n",
    "P_mean = 0.5*(101.83 + 101.80 ) # kPa\n",
    "T_mean = 0.5*(11 + 13) #°C\n",
    "\n",
    "R_top = R_mean_top *(P_mean/101 * (273+T_mean)/283)\n",
    "R_bottom = R_mean_bottom *(P_mean/101 * (273+T_mean)/283)"
   ]
  },
  {
   "cell_type": "markdown",
   "metadata": {},
   "source": [
    "#### Transform to center of solar disk"
   ]
  },
  {
   "cell_type": "code",
   "execution_count": 6,
   "metadata": {},
   "outputs": [],
   "source": [
    "z_top = z_b_top + i + R_top - phi_1 - phi_2\n",
    "z_bottom = z_b_bottom + i + R_bottom + phi_1 - phi_2"
   ]
  },
  {
   "cell_type": "code",
   "execution_count": 7,
   "metadata": {},
   "outputs": [],
   "source": [
    "z = np.concatenate((z_top, z_bottom))\n",
    "time = np.concatenate((time_top, time_bottom))"
   ]
  },
  {
   "cell_type": "markdown",
   "metadata": {},
   "source": [
    "### Almanac"
   ]
  },
  {
   "cell_type": "markdown",
   "metadata": {},
   "source": [
    "### Interpolation alpha"
   ]
  },
  {
   "cell_type": "code",
   "execution_count": 8,
   "metadata": {},
   "outputs": [
    {
     "name": "stdout",
     "output_type": "stream",
     "text": [
      "152269.18379999997 155746.24920000002\n"
     ]
    }
   ],
   "source": [
    "alpha = alpha_5/(3600*15) + time/(24*3600*15) * (alpha_6/(3600*15) - alpha_5/(3600*15))\n",
    "\n",
    "print(alpha_5, alpha_6)"
   ]
  },
  {
   "cell_type": "markdown",
   "metadata": {},
   "source": [
    "### Interpolation delta"
   ]
  },
  {
   "cell_type": "code",
   "execution_count": 9,
   "metadata": {},
   "outputs": [],
   "source": [
    "delta = delta_5/(3600) + time/(24*3600*15) * (delta_6/(3600) - delta_5/(3600))"
   ]
  },
  {
   "cell_type": "markdown",
   "metadata": {},
   "source": [
    "### Hour Angle in arcsec"
   ]
  },
  {
   "cell_type": "code",
   "execution_count": 10,
   "metadata": {},
   "outputs": [],
   "source": [
    "tau = GMST_0UT + time * (366.24/365.24) - l - alpha"
   ]
  },
  {
   "cell_type": "code",
   "execution_count": 11,
   "metadata": {},
   "outputs": [],
   "source": [
    "Y = np.arctan(np.cos(tau*np.pi/648000) / np.tan(delta * np.pi/648000)) # rad\n",
    "X = np.sin(delta*np.pi/648000)*np.sqrt(1 + (np.cos(tau*np.pi/648000)/ np.tan(delta*np.pi/648000))** 2)"
   ]
  },
  {
   "cell_type": "code",
   "execution_count": 12,
   "metadata": {},
   "outputs": [
    {
     "name": "stdout",
     "output_type": "stream",
     "text": [
      "[ True  True  True  True  True  True  True  True  True  True]\n"
     ]
    }
   ],
   "source": [
    "b = (52 + 27/60 + 24/3600)*np.pi/180 # rad\n",
    "print((Y + b) > np.pi/2)"
   ]
  },
  {
   "cell_type": "markdown",
   "metadata": {},
   "source": [
    "-> First solution for b!"
   ]
  },
  {
   "cell_type": "code",
   "execution_count": 13,
   "metadata": {},
   "outputs": [],
   "source": [
    "b = (np.pi - np.arcsin(np.cos((z)*np.pi/648000)/X) - Y) * 180/np.pi"
   ]
  },
  {
   "cell_type": "code",
   "execution_count": 14,
   "metadata": {},
   "outputs": [
    {
     "data": {
      "text/plain": [
       "-0.4161468365471424"
      ]
     },
     "execution_count": 14,
     "metadata": {},
     "output_type": "execute_result"
    }
   ],
   "source": [
    "np.cos(2)"
   ]
  }
 ],
 "metadata": {
  "kernelspec": {
   "display_name": "Standard",
   "language": "python",
   "name": "python3"
  },
  "language_info": {
   "codemirror_mode": {
    "name": "ipython",
    "version": 3
   },
   "file_extension": ".py",
   "mimetype": "text/x-python",
   "name": "python",
   "nbconvert_exporter": "python",
   "pygments_lexer": "ipython3",
   "version": "3.11.5"
  },
  "orig_nbformat": 4
 },
 "nbformat": 4,
 "nbformat_minor": 2
}
