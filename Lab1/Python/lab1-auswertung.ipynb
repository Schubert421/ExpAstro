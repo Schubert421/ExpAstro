{
 "cells": [
  {
   "cell_type": "code",
   "execution_count": 74,
   "metadata": {},
   "outputs": [],
   "source": [
    "import numpy as np\n",
    "import matplotlib.pyplot as plt"
   ]
  },
  {
   "cell_type": "markdown",
   "metadata": {},
   "source": [
    "## Beachte Konvention: alles in Winkelsekunden rechnen"
   ]
  },
  {
   "cell_type": "markdown",
   "metadata": {},
   "source": [
    "### Observed Zenith angle"
   ]
  },
  {
   "cell_type": "code",
   "execution_count": 75,
   "metadata": {},
   "outputs": [
    {
     "data": {
      "text/plain": [
       "array([530220, 531945, 539535, 541065])"
      ]
     },
     "execution_count": 75,
     "metadata": {},
     "output_type": "execute_result"
    }
   ],
   "source": [
    "time_top = 15 * (np.array([11*60*60 + 42*60 +47, 11*60*60 + 44*60 +8, 11*60*60 + 56*60 +50,\n",
    "                     11*60*60 + 57*60 +37, 12*60*60 + 4*60 +53, \n",
    "                     12*60*60 + 6*60 +3]) - 2*3600) # in arcsec, UT\n",
    "z_b_top = np.array([39*3600+9*60+32, 39*3600 + 3*60+16, 38*3600 + 6*60+6, 38*3600 + 3*60+7, 37*3600 + 35*60+57, 37*3600 + 32*60+2])\n",
    "\n",
    "time_bottom = 15 * (np.array([11*60*60 + 49*60 +8, 11*60*60 + 51*60 +3, 11*60*60 + 59*60 +29,\n",
    "                     12*60*60 + 1*60 +11]) - 2*3600 )# in arcsec, UT\n",
    "z_b_bottom = np.array([39*3600+12*60+26, 39*3600+4*60+52, 38*3600+29*60+1, 38*3600+21*60+33])\n",
    "\n",
    "time_bottom"
   ]
  },
  {
   "cell_type": "markdown",
   "metadata": {},
   "source": [
    "### Corrections"
   ]
  },
  {
   "cell_type": "markdown",
   "metadata": {},
   "source": [
    "#### Index error"
   ]
  },
  {
   "cell_type": "markdown",
   "metadata": {},
   "source": []
  },
  {
   "cell_type": "markdown",
   "metadata": {},
   "source": [
    "#### Refraction"
   ]
  },
  {
   "cell_type": "code",
   "execution_count": null,
   "metadata": {},
   "outputs": [],
   "source": []
  },
  {
   "cell_type": "markdown",
   "metadata": {},
   "source": [
    "#### Horizontal parallax"
   ]
  },
  {
   "cell_type": "code",
   "execution_count": null,
   "metadata": {},
   "outputs": [],
   "source": []
  },
  {
   "cell_type": "markdown",
   "metadata": {},
   "source": [
    "#### Transform to center of solar disk"
   ]
  },
  {
   "cell_type": "code",
   "execution_count": null,
   "metadata": {},
   "outputs": [],
   "source": []
  },
  {
   "cell_type": "markdown",
   "metadata": {},
   "source": [
    "### Almanac"
   ]
  },
  {
   "cell_type": "code",
   "execution_count": 76,
   "metadata": {},
   "outputs": [],
   "source": [
    "GMST_0UT = (14*3600 + 52*60 + 28.7584) * 15\n",
    "alpha_5 = 2.8197997 * 3600 * 15\n",
    "alpha_6 = 2.8841898 * 3600 * 15\n",
    "delta_5 = 16.262748 * 3600\n",
    "delta_6 = 16.545533 * 3600\n",
    "phi_1 = 15*60 + 51.58\n",
    "phi_2 =8.72 * 3600\n",
    "\n",
    "l = 13 * 3600 + 17*60 + 42.5 # Längengrad in ''"
   ]
  },
  {
   "cell_type": "markdown",
   "metadata": {},
   "source": [
    "### Interpolation alpha\n",
    "alpha(t) = m*t + n"
   ]
  },
  {
   "cell_type": "code",
   "execution_count": 77,
   "metadata": {},
   "outputs": [
    {
     "name": "stdout",
     "output_type": "stream",
     "text": [
      "152269.18379999997 155746.24920000002\n",
      "[153676.38919169 153679.6489405  153710.31472562 153712.20618481\n",
      " 153729.75248706 153732.56955394]\n"
     ]
    }
   ],
   "source": [
    "alpha_top = alpha_5 + time_top/(24*3600*15) * (alpha_6 - alpha_5)\n",
    "alpha_bottom = alpha_5 + time_bottom/(24*3600*15) * (alpha_6 - alpha_5)\n",
    "\n",
    "print(alpha_5, alpha_6)\n",
    "print(alpha_top)"
   ]
  },
  {
   "cell_type": "markdown",
   "metadata": {},
   "source": [
    "### Interpolation delta"
   ]
  },
  {
   "cell_type": "code",
   "execution_count": 78,
   "metadata": {},
   "outputs": [],
   "source": [
    "delta_top = delta_5 + time_top/(24*3600*15) * (delta_6 - delta_5)\n",
    "delta_bottom = delta_5 + time_bottom/(24*3600*15) * (delta_6 - delta_5)"
   ]
  },
  {
   "cell_type": "markdown",
   "metadata": {},
   "source": [
    "### Hour Angle in arcsec"
   ]
  },
  {
   "cell_type": "code",
   "execution_count": 79,
   "metadata": {},
   "outputs": [],
   "source": [
    "tau_top = GMST_0UT + time_top * (366.24/365.24) - l - alpha_top\n",
    "tau_bottom = GMST_0UT + time_bottom * (366.24/365.24) - l - alpha_bottom"
   ]
  },
  {
   "cell_type": "code",
   "execution_count": 80,
   "metadata": {},
   "outputs": [
    {
     "data": {
      "text/plain": [
       "array([1.16549231, 1.16773851, 1.18719843, 1.18830607, 1.19811216,\n",
       "       1.19961062])"
      ]
     },
     "execution_count": 80,
     "metadata": {},
     "output_type": "execute_result"
    }
   ],
   "source": [
    "# Y ist in Grad!\n",
    "Y_top = np.arctan(np.cos(tau_top*np.pi/648000) / np.tan(delta_top * np.pi/648000)) # degree\n",
    "Y_bottom = np.arctan(np.cos(tau_bottom*np.pi/648000) / np.tan(delta_bottom * np.pi/648000)) # degree\n",
    "\n",
    "# einheitenlos\n",
    "X_top = np.sin(delta_top*np.pi/648000)*np.sqrt(1 + (np.cos(tau_top*np.pi/648000)/ np.tan(delta_top*np.pi/648000))** 2)\n",
    "X_bottom = np.sin(delta_bottom*np.pi/648000)*np.sqrt(1 + (np.cos(tau_bottom*np.pi/648000)/ np.tan(delta_bottom*np.pi/648000))** 2)\n",
    "\n",
    "Y_top"
   ]
  },
  {
   "cell_type": "code",
   "execution_count": 81,
   "metadata": {},
   "outputs": [
    {
     "name": "stdout",
     "output_type": "stream",
     "text": [
      "[ True  True  True  True]\n",
      "[ True  True  True  True  True  True]\n"
     ]
    }
   ],
   "source": [
    "b = 52 + 27 / 60 + 24 / 3600 # degree\n",
    "print(Y_bottom + b > 45)\n",
    "print(Y_top + b > 45)"
   ]
  },
  {
   "cell_type": "markdown",
   "metadata": {},
   "source": [
    "-> First solution for b!"
   ]
  },
  {
   "cell_type": "code",
   "execution_count": 83,
   "metadata": {},
   "outputs": [
    {
     "name": "stdout",
     "output_type": "stream",
     "text": [
      "[nan nan nan nan]\n"
     ]
    },
    {
     "name": "stderr",
     "output_type": "stream",
     "text": [
      "/var/folders/l5/795mgj651k166hg3q3yphl2r0000gn/T/ipykernel_3865/3836096202.py:1: RuntimeWarning: invalid value encountered in arcsin\n",
      "  b_top = 90 - np.arcsin(np.cos(z_b_top*np.pi/648000)/X_top) - Y_top\n",
      "/var/folders/l5/795mgj651k166hg3q3yphl2r0000gn/T/ipykernel_3865/3836096202.py:2: RuntimeWarning: invalid value encountered in arcsin\n",
      "  b_bottom = 90 - np.arcsin(np.cos(z_b_bottom*np.pi/648000)/X_bottom) - Y_bottom\n"
     ]
    }
   ],
   "source": [
    "b_top = 90 - np.arcsin(np.cos(z_b_top*np.pi/648000)/X_top) - Y_top \n",
    "b_bottom = 90 - np.arcsin(np.cos(z_b_bottom*np.pi/648000)/X_bottom) - Y_bottom\n",
    "\n",
    "print(b_bottom)"
   ]
  }
 ],
 "metadata": {
  "kernelspec": {
   "display_name": "Standard",
   "language": "python",
   "name": "python3"
  },
  "language_info": {
   "codemirror_mode": {
    "name": "ipython",
    "version": 3
   },
   "file_extension": ".py",
   "mimetype": "text/x-python",
   "name": "python",
   "nbconvert_exporter": "python",
   "pygments_lexer": "ipython3",
   "version": "3.11.5"
  },
  "orig_nbformat": 4
 },
 "nbformat": 4,
 "nbformat_minor": 2
}
