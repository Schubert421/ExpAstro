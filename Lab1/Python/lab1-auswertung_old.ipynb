{
 "cells": [
  {
   "cell_type": "code",
   "execution_count": 188,
   "metadata": {},
   "outputs": [],
   "source": [
    "import numpy as np\n",
    "import matplotlib.pyplot as plt"
   ]
  },
  {
   "cell_type": "markdown",
   "metadata": {},
   "source": [
    "## Beachte Konvention: alles in Winkelsekunden rechnen"
   ]
  },
  {
   "cell_type": "markdown",
   "metadata": {},
   "source": [
    "### Observed Zenith angle"
   ]
  },
  {
   "cell_type": "code",
   "execution_count": 189,
   "metadata": {},
   "outputs": [
    {
     "name": "stdout",
     "output_type": "stream",
     "text": [
      "[140972 140596 137166 136987 135357 135122]\n",
      "[141146 140692 138541 138093]\n"
     ]
    }
   ],
   "source": [
    "time_top = 15 * (np.array([11*60*60 + 42*60 +47, 11*60*60 + 44*60 +8, 11*60*60 + 56*60 +50,\n",
    "                     11*60*60 + 57*60 +37, 12*60*60 + 4*60 +53, \n",
    "                     12*60*60 + 6*60 +3]) - 2*3600) # in arcsec, UT\n",
    "z_b_top = np.array([39*3600+9*60+32, 39*3600 + 3*60+16, 38*3600 + 6*60+6, 38*3600 + 3*60+7, 37*3600 + 35*60+57, 37*3600 + 32*60+2])\n",
    "\n",
    "time_bottom = 15 * (np.array([11*60*60 + 49*60 +8, 11*60*60 + 51*60 +3, 11*60*60 + 59*60 +29,\n",
    "                     12*60*60 + 1*60 +11]) - 2*3600 )# in arcsec, UT\n",
    "z_b_bottom = np.array([39*3600+12*60+26, 39*3600+4*60+52, 38*3600+29*60+1, 38*3600+21*60+33])\n",
    "\n",
    "print(z_b_top)\n",
    "print(z_b_bottom)"
   ]
  },
  {
   "cell_type": "markdown",
   "metadata": {},
   "source": [
    "### Corrections"
   ]
  },
  {
   "cell_type": "markdown",
   "metadata": {},
   "source": [
    "#### Index error"
   ]
  },
  {
   "cell_type": "markdown",
   "metadata": {},
   "source": []
  },
  {
   "cell_type": "markdown",
   "metadata": {},
   "source": [
    "#### Refraction"
   ]
  },
  {
   "cell_type": "code",
   "execution_count": null,
   "metadata": {},
   "outputs": [],
   "source": []
  },
  {
   "cell_type": "code",
   "execution_count": null,
   "metadata": {},
   "outputs": [],
   "source": []
  },
  {
   "cell_type": "markdown",
   "metadata": {},
   "source": [
    "#### Horizontal parallax"
   ]
  },
  {
   "cell_type": "code",
   "execution_count": null,
   "metadata": {},
   "outputs": [],
   "source": []
  },
  {
   "cell_type": "markdown",
   "metadata": {},
   "source": [
    "#### Transform to center of solar disk"
   ]
  },
  {
   "cell_type": "code",
   "execution_count": null,
   "metadata": {},
   "outputs": [],
   "source": []
  },
  {
   "cell_type": "markdown",
   "metadata": {},
   "source": [
    "### Almanac"
   ]
  },
  {
   "cell_type": "code",
   "execution_count": 190,
   "metadata": {},
   "outputs": [],
   "source": [
    "GMST_0UT = (14*3600 + 52*60 + 28.7584) * 15\n",
    "alpha_5 = 2.8197997 * 3600 * 15\n",
    "alpha_6 = 2.8841898 * 3600 * 15\n",
    "delta_5 = 16.262748 * 3600\n",
    "delta_6 = 16.545533 * 3600\n",
    "phi_1 = 15*60 + 51.58\n",
    "phi_2 = 8.72 * 3600\n",
    "\n",
    "l = (13 * 3600 + 17*60 + 42.5)/3600 # Längengrad in ''"
   ]
  },
  {
   "cell_type": "code",
   "execution_count": null,
   "metadata": {},
   "outputs": [],
   "source": []
  },
  {
   "cell_type": "markdown",
   "metadata": {},
   "source": [
    "### Interpolation alpha\n",
    "alpha(t) = m*t + n"
   ]
  },
  {
   "cell_type": "code",
   "execution_count": 191,
   "metadata": {},
   "outputs": [
    {
     "name": "stdout",
     "output_type": "stream",
     "text": [
      "152269.18379999997 155746.24920000002\n",
      "[2.84585906 2.84591942 2.84648731 2.84652234 2.84684727 2.84689944]\n"
     ]
    },
    {
     "data": {
      "text/plain": [
       "[<matplotlib.lines.Line2D at 0x1771f512410>]"
      ]
     },
     "execution_count": 191,
     "metadata": {},
     "output_type": "execute_result"
    },
    {
     "data": {
      "image/png": "[encoded data removed]",
      "text/plain": [
       "<Figure size 640x480 with 1 Axes>"
      ]
     },
     "metadata": {},
     "output_type": "display_data"
    }
   ],
   "source": [
    "alpha_top = alpha_5/(3600*15) + time_top/(24*3600*15) * (alpha_6 - alpha_5)/(3600*15)\n",
    "alpha_bottom = alpha_5/(3600*15) + time_bottom/(24*3600*15) * (alpha_6 - alpha_5)/(3600*15)\n",
    "\n",
    "print(alpha_5, alpha_6)\n",
    "print(alpha_top)\n",
    "\n",
    "plt.plot(time_top, alpha_top)"
   ]
  },
  {
   "cell_type": "markdown",
   "metadata": {},
   "source": [
    "### Interpolation delta"
   ]
  },
  {
   "cell_type": "code",
   "execution_count": 192,
   "metadata": {},
   "outputs": [],
   "source": [
    "delta_top = delta_5/(3600) + time_top/(24*3600*15) * (delta_6 - delta_5)/(3600)\n",
    "delta_bottom = delta_5/(3600) + time_bottom/(24*3600*15) * (delta_6 - delta_5)/(3600)"
   ]
  },
  {
   "cell_type": "markdown",
   "metadata": {},
   "source": [
    "### Hour Angle in arcsec"
   ]
  },
  {
   "cell_type": "code",
   "execution_count": 193,
   "metadata": {},
   "outputs": [],
   "source": [
    "tau_top = GMST_0UT/(3600*15) + time_top/(3600*15) * (366.24/365.24) - l/15 - alpha_top\n",
    "tau_bottom = GMST_0UT/(3600*15) + time_bottom/(3600*15) * (366.24/365.24) - l/15 - alpha_bottom"
   ]
  },
  {
   "cell_type": "code",
   "execution_count": 194,
   "metadata": {},
   "outputs": [
    {
     "data": {
      "text/plain": [
       "array([0.5346494 , 0.53523913, 0.54058512, 0.54090293, 0.54378526,\n",
       "       0.54423696])"
      ]
     },
     "execution_count": 194,
     "metadata": {},
     "output_type": "execute_result"
    }
   ],
   "source": [
    "# Y ist in Grad!\n",
    "Y_top = np.arctan(np.cos(tau_top*np.pi/360*15) / np.tan(delta_top * np.pi/360*15)) # degree\n",
    "Y_bottom = np.arctan(np.cos(tau_bottom*np.pi/360*15) / np.tan(delta_bottom * np.pi/360*15)) # degree\n",
    "\n",
    "# einheitenlos\n",
    "X_top = np.sin(delta_top*np.pi/360*15)*np.sqrt(1 + (np.cos(tau_top*np.pi/360*15)/ np.tan(delta_top*np.pi/360*15))** 2)\n",
    "X_bottom = np.sin(delta_bottom*np.pi/360*15)*np.sqrt(1 + (np.cos(tau_bottom*np.pi/360*15)/ np.tan(delta_bottom*np.pi/360*15))** 2)\n",
    "\n",
    "Y_top"
   ]
  },
  {
   "cell_type": "code",
   "execution_count": 195,
   "metadata": {},
   "outputs": [
    {
     "name": "stdout",
     "output_type": "stream",
     "text": [
      "[1.45292892 1.45373741 1.45719624 1.45787405]\n",
      "[ True  True  True  True  True  True]\n",
      "[ True  True  True  True  True  True]\n"
     ]
    }
   ],
   "source": [
    "b = (52 + 27 / 60 + 24 / 3600)*np.pi/180 # degree\n",
    "print(Y_bottom + b)\n",
    "print(Y_top + b < np.pi/2)\n",
    "print(Y_top + b > -np.pi/2)\n"
   ]
  },
  {
   "cell_type": "markdown",
   "metadata": {},
   "source": [
    "-> First solution for b!"
   ]
  },
  {
   "cell_type": "code",
   "execution_count": 196,
   "metadata": {},
   "outputs": [
    {
     "name": "stdout",
     "output_type": "stream",
     "text": [
      "[ 0.54824628 -0.04117387         nan -0.11614118]\n",
      "[31.41219825 -2.3590891          nan -6.65439922]\n"
     ]
    },
    {
     "name": "stderr",
     "output_type": "stream",
     "text": [
      "C:\\Users\\mail\\AppData\\Local\\Temp\\ipykernel_31612\\2542375166.py:5: RuntimeWarning: invalid value encountered in arcsin\n",
      "  b_bottom = np.arcsin(np.cos(z_b_bottom)/X_bottom) - Y_bottom\n"
     ]
    }
   ],
   "source": [
    "#b_top = np.pi - np.arcsin(np.cos(z_b_top*np.pi/648000)/X_top) - Y_top \n",
    "#b_bottom = np.pi - np.arcsin(np.cos(z_b_bottom*np.pi/648000)/X_bottom) - Y_bottom\n",
    "\n",
    "b_top = np.arcsin(np.cos(z_b_top)/X_top) - Y_top \n",
    "b_bottom = np.arcsin(np.cos(z_b_bottom)/X_bottom) - Y_bottom\n",
    "\n",
    "print(b_bottom)\n",
    "print(np.rad2deg(b_bottom))"
   ]
  },
  {
   "cell_type": "code",
   "execution_count": null,
   "metadata": {},
   "outputs": [],
   "source": []
  }
 ],
 "metadata": {
  "kernelspec": {
   "display_name": "Python 3",
   "language": "python",
   "name": "python3"
  },
  "language_info": {
   "codemirror_mode": {
    "name": "ipython",
    "version": 3
   },
   "file_extension": ".py",
   "mimetype": "text/x-python",
   "name": "python",
   "nbconvert_exporter": "python",
   "pygments_lexer": "ipython3",
   "version": "3.11.3"
  },
  "orig_nbformat": 4
 },
 "nbformat": 4,
 "nbformat_minor": 2
}
