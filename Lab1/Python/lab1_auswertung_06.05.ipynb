{
 "cells": [
  {
   "cell_type": "code",
   "execution_count": 71,
   "id": "95a01e2d",
   "metadata": {},
   "outputs": [],
   "source": [
    "import numpy as np\n",
    "import matplotlib.pyplot as plt"
   ]
  },
  {
   "cell_type": "code",
   "execution_count": 72,
   "id": "d471bdc9",
   "metadata": {},
   "outputs": [],
   "source": [
    "time_top = np.array([11+42/60+47/3600, 11+44/60+8/3600, 11+56/60+50/3600, 11+57/60+37/3600, 12+4/60+53/3600, 12+6/60+3/3600]) - 2 # in h, UT\n",
    "z_b_top = np.array([39+9/60+32/3600, 39+3/60+16/3600, 38+6/60+6/3600, 38+3/60+7/3600, 37+35/60+57/3600, 37+32/60+2/3600]) # deg\n",
    "\n",
    "time_bottom = np.array([11+49/60+8/3600, 11+51/60+3/3600,11+59/60+29/3600, 12+1/60+11/3600]) - 2 # in h, UT\n",
    "z_b_bottom = np.array([39+12/60+26/3600, 39+4/60+52/3600, 38+29/60+1/3600, 38+21/60+33/3600]) # deg"
   ]
  },
  {
   "cell_type": "code",
   "execution_count": 73,
   "id": "18b8f54d",
   "metadata": {},
   "outputs": [],
   "source": [
    "GMST_0UT = 14 + 52/60 + 28.7584/3600 # in h\n",
    "alpha_5 = 2.8197997 # in h \n",
    "alpha_6 = 2.8841898 # in h\n",
    "delta_5 = 16.262748 # in deg\n",
    "delta_6 = 16.545533 # in deg\n",
    "phi_1 = 15/60 + 51.58/3600 # in deg\n",
    "phi_2 = 8.72 # in deg\n",
    "\n",
    "l = 13 + 17/60 + 42.5/3600 # in deg"
   ]
  },
  {
   "cell_type": "code",
   "execution_count": 74,
   "id": "d4134db8",
   "metadata": {},
   "outputs": [],
   "source": [
    "# convert all to time\n",
    "delta_5 = delta_5/15 # in h\n",
    "delta_6 = delta_6/15 # in h\n",
    "phi_1 = phi_1/15 # in h\n",
    "phi_2 = phi_2/15 # in h\n",
    "l = l/15 # in h"
   ]
  },
  {
   "cell_type": "code",
   "execution_count": 75,
   "id": "82ccf35f",
   "metadata": {},
   "outputs": [],
   "source": [
    "# interpolation\n",
    "\n",
    "alpha_top = ((alpha_6 - alpha_5)/24)*time_top + alpha_5\n",
    "delta_top = ((delta_6 - delta_5)/24)*time_top + delta_5\n",
    "\n",
    "alpha_bottom = ((alpha_6 - alpha_5)/24)*time_bottom + alpha_5\n",
    "delta_bottom = ((delta_6 - delta_5)/24)*time_bottom + delta_5"
   ]
  },
  {
   "cell_type": "code",
   "execution_count": 76,
   "id": "07929306",
   "metadata": {},
   "outputs": [],
   "source": [
    "# local hour angle\n",
    "\n",
    "tau_top = GMST_0UT + time_top*(366.24/365.24) + l - alpha_top"
   ]
  },
  {
   "cell_type": "code",
   "execution_count": 77,
   "id": "d7c09edf",
   "metadata": {},
   "outputs": [],
   "source": [
    "#\n",
    "\n",
    "# convert to deg and convert to rad\n",
    "tau_top = tau_top*15\n",
    "tau_top = tau_top*(np.pi/180)\n",
    "\n",
    "delta_top = delta_top*15\n",
    "delta_top = delta_top*(np.pi/180)\n",
    "\n",
    "\n",
    "Y = np.arctan(np.cos(tau_top)/np.tan(delta_top))\n",
    "X = np.sin(delta_top)*np.sqrt(1+(np.cos(tau_top)/np.tan(delta_top))**2)"
   ]
  },
  {
   "cell_type": "code",
   "execution_count": 78,
   "id": "d4c971c4",
   "metadata": {},
   "outputs": [
    {
     "data": {
      "text/plain": [
       "array([ True,  True,  True,  True,  True,  True])"
      ]
     },
     "execution_count": 78,
     "metadata": {},
     "output_type": "execute_result"
    }
   ],
   "source": [
    "# check which equation\n",
    "b = (52 + 27/60 + 24/3600)*(np.pi/180)#\n",
    "(b+Y)>(np.pi/2)"
   ]
  },
  {
   "cell_type": "code",
   "execution_count": 79,
   "id": "d9f6b1a5",
   "metadata": {},
   "outputs": [
    {
     "data": {
      "text/plain": [
       "array([52.12995028, 52.13420968, 52.12144792, 52.12564703, 52.14393375,\n",
       "       52.14991707])"
      ]
     },
     "execution_count": 79,
     "metadata": {},
     "output_type": "execute_result"
    }
   ],
   "source": [
    "# using first equation\n",
    "\n",
    "# convert deg to rad\n",
    "z_b_top = z_b_top*(np.pi/180)\n",
    "\n",
    "latitude = np.pi - np.arcsin(np.cos(z_b_top)/X) - Y\n",
    "\n",
    "latitude*180/np.pi"
   ]
  },
  {
   "cell_type": "code",
   "execution_count": null,
   "id": "49d94d2c",
   "metadata": {},
   "outputs": [],
   "source": []
  }
 ],
 "metadata": {
  "kernelspec": {
   "display_name": "Python 3",
   "language": "python",
   "name": "python3"
  },
  "language_info": {
   "codemirror_mode": {
    "name": "ipython",
    "version": 3
   },
   "file_extension": ".py",
   "mimetype": "text/x-python",
   "name": "python",
   "nbconvert_exporter": "python",
   "pygments_lexer": "ipython3",
   "version": "3.11.3"
  }
 },
 "nbformat": 4,
 "nbformat_minor": 5
}
